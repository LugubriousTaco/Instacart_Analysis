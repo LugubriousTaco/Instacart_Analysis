{
 "cells": [
  {
   "cell_type": "markdown",
   "id": "8e0dee8e",
   "metadata": {},
   "source": [
    "# Table of Contents\n",
    "    ## Data wrangling procedures\n",
    "    ## Data Dictionaries\n",
    "    ## Subsetting\n",
    "    ## Exporting dataframes"
   ]
  },
  {
   "cell_type": "markdown",
   "id": "a879adcb",
   "metadata": {},
   "source": [
    "# Setting Up Notebook"
   ]
  },
  {
   "cell_type": "code",
   "execution_count": null,
   "id": "691e9424",
   "metadata": {},
   "outputs": [],
   "source": [
    "#import libraries\n",
    "import pandas as pd\n",
    "import numpy as np\n",
    "import os"
   ]
  },
  {
   "cell_type": "code",
   "execution_count": null,
   "id": "ed2c501d",
   "metadata": {},
   "outputs": [],
   "source": [
    "#Create path to main project folder\n",
    "path = r'C:\\Users\\mmreg\\OneDrive\\Desktop\\Data Analytics Course Work\\Data Immersion\\Tasks\\04-2022 Instacart Basket Analysis'"
   ]
  },
  {
   "cell_type": "code",
   "execution_count": null,
   "id": "2fa8f98f",
   "metadata": {},
   "outputs": [],
   "source": [
    "#import orders csv\n",
    "df_orders = pd.read_csv(os.path.join(path, '02 Data', 'Original Data', 'IC Orders.csv'), index_col = False)"
   ]
  },
  {
   "cell_type": "code",
   "execution_count": null,
   "id": "10c8bb6a",
   "metadata": {},
   "outputs": [],
   "source": [
    "#import products csv\n",
    "df_products = pd.read_csv(os.path.join(path, '02 Data', 'Original Data', 'IC Products.csv'), index_col = False)"
   ]
  },
  {
   "cell_type": "markdown",
   "id": "70672cef",
   "metadata": {},
   "source": [
    "# Note Taking / Examples"
   ]
  },
  {
   "cell_type": "code",
   "execution_count": null,
   "id": "fdeb494f",
   "metadata": {},
   "outputs": [],
   "source": [
    "#clear up eval_set column and redefine df variable\n",
    "df_orders = df_orders.drop(columns = ['eval_set'])"
   ]
  },
  {
   "cell_type": "code",
   "execution_count": null,
   "id": "ed5c89e2",
   "metadata": {},
   "outputs": [],
   "source": [
    "#discover missing values\n",
    "df_orders['days_since_prior_order'].value_counts(dropna = False)"
   ]
  },
  {
   "cell_type": "code",
   "execution_count": null,
   "id": "dc87776e",
   "metadata": {},
   "outputs": [],
   "source": [
    "#rename order_dow column\n",
    "df_orders.rename(columns = {'order_dow' : 'orders_day_of_week'}, inplace = True)"
   ]
  },
  {
   "cell_type": "code",
   "execution_count": null,
   "id": "6a0b9451",
   "metadata": {},
   "outputs": [],
   "source": [
    "#confirm rename\n",
    "df_orders.head()"
   ]
  },
  {
   "cell_type": "code",
   "execution_count": null,
   "id": "4506d478",
   "metadata": {},
   "outputs": [],
   "source": [
    "#change variable type of orders_id\n",
    "df_orders['order_id'] = df_orders['order_id'].astype('str')"
   ]
  },
  {
   "cell_type": "code",
   "execution_count": null,
   "id": "ae4bf9b6",
   "metadata": {},
   "outputs": [],
   "source": [
    "dtype()"
   ]
  },
  {
   "cell_type": "code",
   "execution_count": null,
   "id": "a31dad02",
   "metadata": {},
   "outputs": [],
   "source": [
    "#check previous function\n",
    "df_orders['order_id'].dtype"
   ]
  },
  {
   "cell_type": "code",
   "execution_count": null,
   "id": "d64db282",
   "metadata": {},
   "outputs": [],
   "source": [
    "#import departments data\n",
    "df_dept = pd.read_csv(os.path.join(path, '02 Data', 'Original Data', 'IC Departments.csv'), index_col = False)"
   ]
  },
  {
   "cell_type": "code",
   "execution_count": null,
   "id": "aa8c84db",
   "metadata": {},
   "outputs": [],
   "source": [
    "df_dept.head()"
   ]
  },
  {
   "cell_type": "code",
   "execution_count": null,
   "id": "62304346",
   "metadata": {},
   "outputs": [],
   "source": [
    "df_dept_t = df_dept.T"
   ]
  },
  {
   "cell_type": "code",
   "execution_count": null,
   "id": "2628e2fc",
   "metadata": {},
   "outputs": [],
   "source": [
    "df_dept_t.head()"
   ]
  },
  {
   "cell_type": "markdown",
   "id": "9eb1a292",
   "metadata": {},
   "source": [
    "## Removing 0 from department data"
   ]
  },
  {
   "cell_type": "code",
   "execution_count": null,
   "id": "1a4fd742",
   "metadata": {},
   "outputs": [],
   "source": [
    "#add index\n",
    "df_dept_t.reset_index()"
   ]
  },
  {
   "cell_type": "code",
   "execution_count": null,
   "id": "1d73e8d4",
   "metadata": {},
   "outputs": [],
   "source": [
    "#Create new header\n",
    "new_header = df_dept_t.iloc[0]"
   ]
  },
  {
   "cell_type": "code",
   "execution_count": null,
   "id": "709e3023",
   "metadata": {},
   "outputs": [],
   "source": [
    "new_header"
   ]
  },
  {
   "cell_type": "code",
   "execution_count": null,
   "id": "9877cd05",
   "metadata": {},
   "outputs": [],
   "source": [
    "#remove 0 index\n",
    "df_dept_t_new = df_dept_t[1:]"
   ]
  },
  {
   "cell_type": "code",
   "execution_count": null,
   "id": "13a54db4",
   "metadata": {
    "scrolled": false
   },
   "outputs": [],
   "source": [
    "#confirm previous code\n",
    "df_dept_t_new"
   ]
  },
  {
   "cell_type": "code",
   "execution_count": null,
   "id": "a5ffca1a",
   "metadata": {},
   "outputs": [],
   "source": [
    "#rename columns with header\n",
    "df_dept_t_new.columns = new_header"
   ]
  },
  {
   "cell_type": "code",
   "execution_count": null,
   "id": "c470877a",
   "metadata": {},
   "outputs": [],
   "source": [
    "#check work\n",
    "df_dept_t_new"
   ]
  },
  {
   "cell_type": "markdown",
   "id": "29e50f7e",
   "metadata": {},
   "source": [
    "## Data Dictionary"
   ]
  },
  {
   "cell_type": "code",
   "execution_count": null,
   "id": "3a53ab8e",
   "metadata": {},
   "outputs": [],
   "source": [
    "#create data dictionary\n",
    "data_dict = df_dept_t_new.to_dict('index')"
   ]
  },
  {
   "cell_type": "code",
   "execution_count": null,
   "id": "122d7ad2",
   "metadata": {},
   "outputs": [],
   "source": [
    "#check work\n",
    "data_dict"
   ]
  },
  {
   "cell_type": "code",
   "execution_count": null,
   "id": "d2bdcc43",
   "metadata": {},
   "outputs": [],
   "source": [
    "#using data dictionary in practice\n",
    "df_products.head()"
   ]
  },
  {
   "cell_type": "code",
   "execution_count": null,
   "id": "5329c963",
   "metadata": {},
   "outputs": [],
   "source": [
    "print(data_dict.get('19'))"
   ]
  },
  {
   "cell_type": "markdown",
   "id": "2cdc7130",
   "metadata": {},
   "source": [
    "## Subsetting"
   ]
  },
  {
   "cell_type": "code",
   "execution_count": null,
   "id": "f88a5258",
   "metadata": {},
   "outputs": [],
   "source": [
    "#indexing snack column from products dataframe\n",
    "df_products['department_id']==19"
   ]
  },
  {
   "cell_type": "code",
   "execution_count": null,
   "id": "2e675aa4",
   "metadata": {},
   "outputs": [],
   "source": [
    "df_products[df_products['department_id']==19]"
   ]
  },
  {
   "cell_type": "code",
   "execution_count": null,
   "id": "2b7057c1",
   "metadata": {},
   "outputs": [],
   "source": [
    "df_snacks = df_products[df_products['department_id']==19]"
   ]
  },
  {
   "cell_type": "code",
   "execution_count": null,
   "id": "7efdb152",
   "metadata": {},
   "outputs": [],
   "source": [
    "df_snacks.head()"
   ]
  },
  {
   "cell_type": "code",
   "execution_count": null,
   "id": "40a12d05",
   "metadata": {},
   "outputs": [],
   "source": [
    "#simpler way of subsetting\n",
    "df_snacks_2 = df_products.loc[df_products['department_id']==19]"
   ]
  },
  {
   "cell_type": "code",
   "execution_count": null,
   "id": "7f7cc069",
   "metadata": {},
   "outputs": [],
   "source": [
    "df_snacks_2.head()"
   ]
  },
  {
   "cell_type": "code",
   "execution_count": null,
   "id": "87b2b661",
   "metadata": {},
   "outputs": [],
   "source": [
    "#subsetting multiple values\n",
    "df_snacks_3 = df_products.loc[df_products['department_id'].isin([17,18,19])]"
   ]
  },
  {
   "cell_type": "code",
   "execution_count": null,
   "id": "7a73d906",
   "metadata": {},
   "outputs": [],
   "source": [
    "df_snacks_3.head()"
   ]
  },
  {
   "cell_type": "code",
   "execution_count": null,
   "id": "b0ee8e45",
   "metadata": {},
   "outputs": [],
   "source": [
    "df_snacks_3.tail()"
   ]
  },
  {
   "cell_type": "markdown",
   "id": "f95ae5b6",
   "metadata": {},
   "source": [
    "# Task 1.4 Work"
   ]
  },
  {
   "cell_type": "markdown",
   "id": "c6450b21",
   "metadata": {},
   "source": [
    "## Question 2"
   ]
  },
  {
   "cell_type": "code",
   "execution_count": null,
   "id": "7313d35c",
   "metadata": {},
   "outputs": [],
   "source": [
    "#search for unnecessary value\n",
    "df_orders.head()"
   ]
  },
  {
   "cell_type": "code",
   "execution_count": null,
   "id": "7d1cbb2a",
   "metadata": {},
   "outputs": [],
   "source": [
    "#convert user_id to suitable data format\n",
    "df_orders['user_id'] = df_orders['user_id'].astype('str')"
   ]
  },
  {
   "cell_type": "code",
   "execution_count": null,
   "id": "e74ef545",
   "metadata": {},
   "outputs": [],
   "source": [
    "#check work\n",
    "df_orders['user_id'].dtype"
   ]
  },
  {
   "cell_type": "markdown",
   "id": "b1a176c7",
   "metadata": {},
   "source": [
    "## Question 3"
   ]
  },
  {
   "cell_type": "code",
   "execution_count": null,
   "id": "0f0c166f",
   "metadata": {},
   "outputs": [],
   "source": [
    "#change column name for order_time_of_day\n",
    "df_orders.rename(columns = {'order_hour_of_day' : 'time_of_order'}, inplace = True)"
   ]
  },
  {
   "cell_type": "code",
   "execution_count": null,
   "id": "bcf764b5",
   "metadata": {},
   "outputs": [],
   "source": [
    "#check work\n",
    "df_orders.columns"
   ]
  },
  {
   "cell_type": "markdown",
   "id": "7debb077",
   "metadata": {},
   "source": [
    "## Question 4"
   ]
  },
  {
   "cell_type": "code",
   "execution_count": null,
   "id": "42fa2195",
   "metadata": {},
   "outputs": [],
   "source": [
    "#find frequency of time_of_order\n",
    "df_orders['time_of_order'].value_counts(dropna = False)"
   ]
  },
  {
   "cell_type": "code",
   "execution_count": null,
   "id": "3a87e8d2",
   "metadata": {},
   "outputs": [],
   "source": [
    "#Answer: The top three times for orders are 10:00, 11:00, and 15:00"
   ]
  },
  {
   "cell_type": "markdown",
   "id": "e771bc91",
   "metadata": {},
   "source": [
    "## Question 5"
   ]
  },
  {
   "cell_type": "code",
   "execution_count": null,
   "id": "5162e3f5",
   "metadata": {},
   "outputs": [],
   "source": [
    "#look up what 4 is in df_products\n",
    "print(data_dict.get('4'))"
   ]
  },
  {
   "cell_type": "code",
   "execution_count": null,
   "id": "bac43d70",
   "metadata": {},
   "outputs": [],
   "source": [
    "#Answer: The value 4 represents the produce department"
   ]
  },
  {
   "cell_type": "markdown",
   "id": "618649e3",
   "metadata": {},
   "source": [
    "## Question 6"
   ]
  },
  {
   "cell_type": "code",
   "execution_count": null,
   "id": "57d2439c",
   "metadata": {},
   "outputs": [],
   "source": [
    "#determine which value represents breakfast\n",
    "data_dict"
   ]
  },
  {
   "cell_type": "code",
   "execution_count": null,
   "id": "dfd6bede",
   "metadata": {},
   "outputs": [],
   "source": [
    "#create subset for breakfast (4)\n",
    "df_breakfast = df_products.loc[df_products['department_id']==4]"
   ]
  },
  {
   "cell_type": "code",
   "execution_count": null,
   "id": "a41d4d7b",
   "metadata": {},
   "outputs": [],
   "source": [
    "#check work\n",
    "df_breakfast"
   ]
  },
  {
   "cell_type": "markdown",
   "id": "22a20962",
   "metadata": {},
   "source": [
    "## Question 7"
   ]
  },
  {
   "cell_type": "code",
   "execution_count": null,
   "id": "44e8d7bc",
   "metadata": {},
   "outputs": [],
   "source": [
    "#determine department id's for required information\n",
    "data_dict"
   ]
  },
  {
   "cell_type": "code",
   "execution_count": null,
   "id": "f1cf13b9",
   "metadata": {},
   "outputs": [],
   "source": [
    "#need subset for 5, 20, 7, 12"
   ]
  },
  {
   "cell_type": "code",
   "execution_count": null,
   "id": "1e3e916f",
   "metadata": {},
   "outputs": [],
   "source": [
    "#create subset with required information\n",
    "df_dinner_parties = df_products.loc[df_products['department_id'].isin([5,7,12,20])]"
   ]
  },
  {
   "cell_type": "code",
   "execution_count": null,
   "id": "7c5da967",
   "metadata": {},
   "outputs": [],
   "source": [
    "#check work\n",
    "df_dinner_parties"
   ]
  },
  {
   "cell_type": "markdown",
   "id": "24cad79b",
   "metadata": {},
   "source": [
    "## Question 8"
   ]
  },
  {
   "cell_type": "code",
   "execution_count": null,
   "id": "0313756b",
   "metadata": {},
   "outputs": [],
   "source": [
    "#The dinner party dataframe has 7650 rows and 5 columns"
   ]
  },
  {
   "cell_type": "markdown",
   "id": "1768a867",
   "metadata": {},
   "source": [
    "## Question 9"
   ]
  },
  {
   "cell_type": "code",
   "execution_count": null,
   "id": "6a8a1d27",
   "metadata": {},
   "outputs": [],
   "source": [
    "#create subset of user_id 1 information\n",
    "df_user_one = df_orders[df_orders['user_id']=='1']"
   ]
  },
  {
   "cell_type": "code",
   "execution_count": null,
   "id": "6830b741",
   "metadata": {},
   "outputs": [],
   "source": [
    "#check work\n",
    "df_user_one"
   ]
  },
  {
   "cell_type": "markdown",
   "id": "348e971a",
   "metadata": {},
   "source": [
    "## Question 10"
   ]
  },
  {
   "cell_type": "code",
   "execution_count": null,
   "id": "2ecf4f0e",
   "metadata": {},
   "outputs": [],
   "source": [
    "#gather descriptive statistics on data\n",
    "df_user_one.describe()"
   ]
  },
  {
   "cell_type": "code",
   "execution_count": null,
   "id": "806c1449",
   "metadata": {},
   "outputs": [],
   "source": [
    "#Answer: The customer with User_id of 1 has ordered 11 times, roughly every 19 days except for one day where there were two transactions two hours apart, and has ordered between the hours of 7:00 and 16:00"
   ]
  },
  {
   "cell_type": "markdown",
   "id": "3e8c4b2a",
   "metadata": {},
   "source": [
    "## Question 12"
   ]
  },
  {
   "cell_type": "code",
   "execution_count": null,
   "id": "e0ab4a0b",
   "metadata": {},
   "outputs": [],
   "source": [
    "#export wrangled orders dataframe as csv\n",
    "df_orders.to_csv(os.path.join(path, '02 Data', 'Prepared Data', 'orders_wrangled.csv'))"
   ]
  },
  {
   "cell_type": "markdown",
   "id": "6bc8cfbf",
   "metadata": {},
   "source": [
    "## Question 13"
   ]
  },
  {
   "cell_type": "code",
   "execution_count": null,
   "id": "6cfc1ab8",
   "metadata": {},
   "outputs": [],
   "source": [
    "#export department datafram as csv\n",
    "df_dept_t_new.to_csv(os.path.join(path, '02 Data', 'Prepared Data', 'departments_wrangled.csv'))"
   ]
  },
  {
   "cell_type": "markdown",
   "id": "95dc489f",
   "metadata": {},
   "source": [
    "### Both .csv files have been confirmed to be in the proper folder on the local device"
   ]
  }
 ],
 "metadata": {
  "kernelspec": {
   "display_name": "Python 3 (ipykernel)",
   "language": "python",
   "name": "python3"
  },
  "language_info": {
   "codemirror_mode": {
    "name": "ipython",
    "version": 3
   },
   "file_extension": ".py",
   "mimetype": "text/x-python",
   "name": "python",
   "nbconvert_exporter": "python",
   "pygments_lexer": "ipython3",
   "version": "3.9.12"
  }
 },
 "nbformat": 4,
 "nbformat_minor": 5
}
